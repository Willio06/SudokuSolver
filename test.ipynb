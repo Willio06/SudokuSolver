{
 "cells": [
  {
   "cell_type": "code",
   "execution_count": 379,
   "id": "91e0f81b",
   "metadata": {},
   "outputs": [],
   "source": [
    "import numpy as np\n",
    "import math\n",
    "import matplotlib.pyplot as plt"
   ]
  },
  {
   "cell_type": "code",
   "execution_count": 380,
   "id": "69b14d08",
   "metadata": {},
   "outputs": [],
   "source": [
    "def print_sudoku_style(arr):\n",
    "    GRAY = '\\033[90m'\n",
    "    RESET = '\\033[0m'\n",
    "    n = arr.shape[0]\n",
    "    block_size = int(math.sqrt(n))\n",
    "\n",
    "    for i in range(n):\n",
    "        # Print horizontal block separator\n",
    "        if i % block_size == 0 and i != 0:\n",
    "            print('-' * (4 * n + block_size - 8))\n",
    "        \n",
    "        row = ''\n",
    "        for j in range(n):\n",
    "            # Print vertical block separator\n",
    "            if j % block_size == 0 and j != 0:\n",
    "                row += '| '\n",
    "            \n",
    "            val = arr[i, j]\n",
    "            if val == 0:\n",
    "                row += f'{GRAY} 0{RESET} '\n",
    "            else:\n",
    "                row += f'{val:2} '\n",
    "        print(row)"
   ]
  },
  {
   "cell_type": "code",
   "execution_count": 381,
   "id": "7f858dc1",
   "metadata": {},
   "outputs": [],
   "source": [
    "def initialization(n):\n",
    "    base = np.zeros((n,n), dtype=int)\n",
    "    coos = np.array([(0,0,4),(0,2,3),(0,3,5),(0,3,5),(0,4,9),(0,6,7),(0,7,2),(1,1,8),(1,3,6),(1,7,3),(2,0,7),\n",
    "            (2,2,9),(2,5,4),(2,8,5),(3,0,1),(3,1,5),(3,2,8),(3,4,6),(4,1,7),(4,2,2),(4,6,8),(4,8,9),\n",
    "            (5,3,2),(5,4,3),(5,5,8),(5,6,5),(5,7,7),(6,1,1),(6,2,5),(6,3,4),(6,8,2),(7,3,8),(7,5,3),(7,6,4),(7,7,5),\n",
    "            (8,1,3),(8,5,2),(8,7,8),(8,8,7)])\n",
    "    base[coos[:,0], coos[:,1]] = coos[:,2]\n",
    "    return base"
   ]
  },
  {
   "cell_type": "code",
   "execution_count": 382,
   "id": "65a469a3",
   "metadata": {},
   "outputs": [],
   "source": [
    "def extract_groups_vectorized(arr, coords, mode=\"box\", indices=False):\n",
    "    n = arr.shape[0]\n",
    "    b = int(math.sqrt(n))\n",
    "    coords = np.array(coords)\n",
    "\n",
    "    def get_indices(i, j):\n",
    "        if mode == \"row\":\n",
    "            return np.full(n, i), np.arange(n)\n",
    "        elif mode == \"column\":\n",
    "            return np.arange(n), np.full(n, j)\n",
    "        elif mode == \"box\":\n",
    "            ti, tj = (i // b) * b, (j // b) * b\n",
    "            di, dj = np.meshgrid(np.arange(b), np.arange(b), indexing='ij')\n",
    "            return ti + di.ravel(), tj + dj.ravel()\n",
    "        else:\n",
    "            raise ValueError(\"Invalid mode\")\n",
    "\n",
    "    if indices:\n",
    "        all_entries = [\n",
    "            np.stack([*(idxs := get_indices(i, j)), arr[idxs]], axis=1)\n",
    "            for i, j in coords\n",
    "        ]\n",
    "        return np.vstack(all_entries)\n",
    "    else:\n",
    "        return np.array([arr[get_indices(i, j)] for i, j in coords])"
   ]
  },
  {
   "cell_type": "code",
   "execution_count": 383,
   "id": "291ed9ef",
   "metadata": {},
   "outputs": [
    {
     "name": "stdout",
     "output_type": "stream",
     "text": [
      " 4 \u001b[90m 0\u001b[0m  3 |  5  9 \u001b[90m 0\u001b[0m |  7  2 \u001b[90m 0\u001b[0m \n",
      "\u001b[90m 0\u001b[0m  8 \u001b[90m 0\u001b[0m |  6 \u001b[90m 0\u001b[0m \u001b[90m 0\u001b[0m | \u001b[90m 0\u001b[0m  3 \u001b[90m 0\u001b[0m \n",
      " 7 \u001b[90m 0\u001b[0m  9 | \u001b[90m 0\u001b[0m \u001b[90m 0\u001b[0m  4 | \u001b[90m 0\u001b[0m \u001b[90m 0\u001b[0m  5 \n",
      "-------------------------------\n",
      " 1  5  8 | \u001b[90m 0\u001b[0m  6 \u001b[90m 0\u001b[0m | \u001b[90m 0\u001b[0m \u001b[90m 0\u001b[0m \u001b[90m 0\u001b[0m \n",
      "\u001b[90m 0\u001b[0m  7  2 | \u001b[90m 0\u001b[0m \u001b[90m 0\u001b[0m \u001b[90m 0\u001b[0m |  8 \u001b[90m 0\u001b[0m  9 \n",
      "\u001b[90m 0\u001b[0m \u001b[90m 0\u001b[0m \u001b[90m 0\u001b[0m |  2  3  8 |  5  7 \u001b[90m 0\u001b[0m \n",
      "-------------------------------\n",
      "\u001b[90m 0\u001b[0m  1  5 |  4 \u001b[90m 0\u001b[0m \u001b[90m 0\u001b[0m | \u001b[90m 0\u001b[0m \u001b[90m 0\u001b[0m  2 \n",
      "\u001b[90m 0\u001b[0m \u001b[90m 0\u001b[0m \u001b[90m 0\u001b[0m |  8 \u001b[90m 0\u001b[0m  3 |  4  5 \u001b[90m 0\u001b[0m \n",
      "\u001b[90m 0\u001b[0m  3 \u001b[90m 0\u001b[0m | \u001b[90m 0\u001b[0m \u001b[90m 0\u001b[0m  2 | \u001b[90m 0\u001b[0m  8  7 \n",
      "\n",
      "\n",
      "\n",
      "Row 0: [[4 0 3 5 9 0 7 2 0]\n",
      " [0 7 2 0 0 0 8 0 9]]\t <class 'numpy.ndarray'>\n",
      "col 0: [[4 0 7 1 0 0 0 0 0]\n",
      " [9 0 0 6 0 3 0 0 0]]\t <class 'numpy.ndarray'>\n",
      "box 0: [[4 0 3 0 8 0 7 0 9]\n",
      " [0 6 0 0 0 0 2 3 8]]\t <class 'numpy.ndarray'>\n"
     ]
    }
   ],
   "source": [
    "np.printoptions(threshold=np.inf)\n",
    "base  = initialization(9)\n",
    "print_sudoku_style(base)\n",
    "print(\"\\n\\n\")\n",
    "# Extracting groups\n",
    "cos = [(0,0),(4,4)]\n",
    "row = extract_groups_vectorized(base, cos, mode=\"row\")\n",
    "print(f\"Row 0: {row}\\t {type(row)}\")\n",
    "col = extract_groups_vectorized(base, cos, mode=\"column\")\n",
    "print(f\"col 0: {col}\\t {type(col)}\")\n",
    "box = extract_groups_vectorized(base, cos, mode=\"box\")\n",
    "print(f\"box 0: {box}\\t {type(box)}\")\n"
   ]
  },
  {
   "cell_type": "code",
   "execution_count": 384,
   "id": "4e2336b2",
   "metadata": {},
   "outputs": [],
   "source": [
    "def get_pos(arr, coos):\n",
    "    \"\"\"\n",
    "    arr: the base game array\n",
    "    coos: the coordinates of the box to be checked in array\n",
    "    return: the possible numbers that can be put in the box\n",
    "    \"\"\"\n",
    "    n = arr.shape[0]\n",
    "    Pos= []\n",
    "    for i in range(coos.shape[0]):\n",
    "        pos = np.arange(1, n+1)\n",
    "        if np.all(base[coos[i,0], coos[i,1]]==0):\n",
    "            box = extract_groups_vectorized(arr, [coos[i]], mode=\"box\")\n",
    "            row = extract_groups_vectorized(arr, [coos[i]], mode=\"row\")\n",
    "            col = extract_groups_vectorized(arr, [coos[i]], mode=\"column\")\n",
    "            pos = np.setdiff1d(pos, box)\n",
    "            pos = np.setdiff1d(pos, row)\n",
    "            pos = np.setdiff1d(pos, col)\n",
    "            Pos.append(pos)\n",
    "        else:\n",
    "            print(\"\\033[91mWARNING\\033[0m: played box is called. check implementation\")\n",
    "            print(f\"\\t Already played box at any position in {coos}\")\n",
    "            return base[coos[:,0], coos[:,1]]\n",
    "    return Pos"
   ]
  },
  {
   "cell_type": "code",
   "execution_count": 385,
   "id": "e4b6bfb4",
   "metadata": {},
   "outputs": [
    {
     "data": {
      "text/plain": [
       "[array([6]), array([2, 5]), array([1, 4, 5])]"
      ]
     },
     "execution_count": 385,
     "metadata": {},
     "output_type": "execute_result"
    }
   ],
   "source": [
    "coos = np.array([(0,1),(1,0),(4,4)])\n",
    "get_pos(base, coos)"
   ]
  },
  {
   "cell_type": "code",
   "execution_count": 386,
   "id": "52dc360c",
   "metadata": {},
   "outputs": [],
   "source": [
    "def check_contradiction(base):\n",
    "    n = base.shape[0]\n",
    "    all_boxs = np.array([[0,0],[0,3],[0,6],[3,0],[3,3],[3,6],[6,0],[6,3],[6,6]])\n",
    "    for boxco in all_boxs:\n",
    "        box = extract_groups_vectorized(base, [boxco], mode=\"box\", indices=True)\n",
    "        vals = box[:,2]!=0\n",
    "        filled = box[vals,2]\n",
    "        xi, yi = box[np.logical_not(vals),0], box[np.logical_not(vals),1]\n",
    "        poss  = get_pos(base, np.array([xi, yi]).T)\n",
    "        poss_all = np.unique(np.concatenate(poss))\n",
    "        to_do = np.setdiff1d(np.arange(1,n+1), filled)\n",
    "        if not np.array_equal(poss_all, to_do):\n",
    "            print(\"\\033[91mWARNING\\033[0m: contradiction found\")\n",
    "            print(f\"\\t Missing possible numbers {np.setdiff1d(to_do,poss_all)} in box\\n{box[:,2]}\")\n",
    "            return True\n",
    "        if any(len(a) == 0 for a in poss):\n",
    "            i =[i for i, a in enumerate(poss) if len(a) == 0][0]\n",
    "            print(\"\\033[91mWARNING\\033[0m: contradiction found\")\n",
    "            print(f\"\\t No possible numbers at ({xi[i]},{yi[i]}) in box\\n{box}\")\n",
    "            return True\n",
    "    return False"
   ]
  },
  {
   "cell_type": "code",
   "execution_count": 387,
   "id": "de759f1c",
   "metadata": {},
   "outputs": [
    {
     "name": "stdout",
     "output_type": "stream",
     "text": [
      " 4 \u001b[90m 0\u001b[0m  3 |  5  9 \u001b[90m 0\u001b[0m |  7  2 \u001b[90m 0\u001b[0m \n",
      "\u001b[90m 0\u001b[0m  8 \u001b[90m 0\u001b[0m |  6 \u001b[90m 0\u001b[0m \u001b[90m 0\u001b[0m | \u001b[90m 0\u001b[0m  3 \u001b[90m 0\u001b[0m \n",
      " 7 \u001b[90m 0\u001b[0m  9 | \u001b[90m 0\u001b[0m \u001b[90m 0\u001b[0m  4 | \u001b[90m 0\u001b[0m \u001b[90m 0\u001b[0m  5 \n",
      "-------------------------------\n",
      " 1  5  8 | \u001b[90m 0\u001b[0m  6 \u001b[90m 0\u001b[0m | \u001b[90m 0\u001b[0m \u001b[90m 0\u001b[0m \u001b[90m 0\u001b[0m \n",
      "\u001b[90m 0\u001b[0m  7  2 | \u001b[90m 0\u001b[0m \u001b[90m 0\u001b[0m \u001b[90m 0\u001b[0m |  8 \u001b[90m 0\u001b[0m  9 \n",
      "\u001b[90m 0\u001b[0m \u001b[90m 0\u001b[0m \u001b[90m 0\u001b[0m |  2  3  8 |  5  7 \u001b[90m 0\u001b[0m \n",
      "-------------------------------\n",
      "\u001b[90m 0\u001b[0m  1  5 |  4 \u001b[90m 0\u001b[0m \u001b[90m 0\u001b[0m | \u001b[90m 0\u001b[0m \u001b[90m 0\u001b[0m  2 \n",
      "\u001b[90m 0\u001b[0m \u001b[90m 0\u001b[0m \u001b[90m 0\u001b[0m |  8 \u001b[90m 0\u001b[0m  3 |  4  5 \u001b[90m 0\u001b[0m \n",
      "\u001b[90m 0\u001b[0m  3 \u001b[90m 0\u001b[0m | \u001b[90m 0\u001b[0m \u001b[90m 0\u001b[0m  2 | \u001b[90m 0\u001b[0m  8  7 \n"
     ]
    }
   ],
   "source": [
    "print_sudoku_style(base)"
   ]
  },
  {
   "cell_type": "code",
   "execution_count": 388,
   "id": "65335f1b",
   "metadata": {},
   "outputs": [
    {
     "data": {
      "text/plain": [
       "False"
      ]
     },
     "execution_count": 388,
     "metadata": {},
     "output_type": "execute_result"
    }
   ],
   "source": [
    "check_contradiction(base)"
   ]
  },
  {
   "cell_type": "code",
   "execution_count": 389,
   "id": "7491e9ea",
   "metadata": {},
   "outputs": [
    {
     "data": {
      "text/plain": [
       "(array([1, 3, 7], dtype=int64),)"
      ]
     },
     "execution_count": 389,
     "metadata": {},
     "output_type": "execute_result"
    }
   ],
   "source": [
    "a=np.array([4, 0, 3, 0, 8, 5, 7, 0, 9])\n",
    "np.where(a==0)"
   ]
  },
  {
   "cell_type": "code",
   "execution_count": 390,
   "id": "565452bc",
   "metadata": {},
   "outputs": [],
   "source": [
    "def get_box_topleft_coords(n):\n",
    "    if(int(np.sqrt(n))**2 != n):\n",
    "        raise ValueError(\"n must be a perfect square\")\n",
    "    b = int(n**0.5)\n",
    "    starts = np.arange(0, n, b)\n",
    "    ii, jj = np.meshgrid(starts, starts, indexing='ij')\n",
    "    return np.stack([ii.ravel(), jj.ravel()], axis=1)\n",
    "\n"
   ]
  },
  {
   "cell_type": "code",
   "execution_count": 391,
   "id": "47a78829",
   "metadata": {},
   "outputs": [
    {
     "data": {
      "text/plain": [
       "array([[0, 0],\n",
       "       [0, 3],\n",
       "       [0, 6],\n",
       "       [3, 0],\n",
       "       [3, 3],\n",
       "       [3, 6],\n",
       "       [6, 0],\n",
       "       [6, 3],\n",
       "       [6, 6]])"
      ]
     },
     "execution_count": 391,
     "metadata": {},
     "output_type": "execute_result"
    }
   ],
   "source": [
    "get_box_topleft_coords(9)"
   ]
  },
  {
   "cell_type": "code",
   "execution_count": 392,
   "id": "2782b008",
   "metadata": {},
   "outputs": [
    {
     "name": "stdout",
     "output_type": "stream",
     "text": [
      " 4 \u001b[90m 0\u001b[0m  3 |  5  9 \u001b[90m 0\u001b[0m |  7  2 \u001b[90m 0\u001b[0m \n",
      "\u001b[90m 0\u001b[0m  8 \u001b[90m 0\u001b[0m |  6 \u001b[90m 0\u001b[0m \u001b[90m 0\u001b[0m | \u001b[90m 0\u001b[0m  3 \u001b[90m 0\u001b[0m \n",
      " 7 \u001b[90m 0\u001b[0m  9 | \u001b[90m 0\u001b[0m \u001b[90m 0\u001b[0m  4 | \u001b[90m 0\u001b[0m \u001b[90m 0\u001b[0m  5 \n",
      "-------------------------------\n",
      " 1  5  8 | \u001b[90m 0\u001b[0m  6 \u001b[90m 0\u001b[0m | \u001b[90m 0\u001b[0m \u001b[90m 0\u001b[0m \u001b[90m 0\u001b[0m \n",
      "\u001b[90m 0\u001b[0m  7  2 | \u001b[90m 0\u001b[0m \u001b[90m 0\u001b[0m \u001b[90m 0\u001b[0m |  8 \u001b[90m 0\u001b[0m  9 \n",
      "\u001b[90m 0\u001b[0m \u001b[90m 0\u001b[0m \u001b[90m 0\u001b[0m |  2  3  8 |  5  7 \u001b[90m 0\u001b[0m \n",
      "-------------------------------\n",
      "\u001b[90m 0\u001b[0m  1  5 |  4 \u001b[90m 0\u001b[0m \u001b[90m 0\u001b[0m | \u001b[90m 0\u001b[0m \u001b[90m 0\u001b[0m  2 \n",
      "\u001b[90m 0\u001b[0m \u001b[90m 0\u001b[0m \u001b[90m 0\u001b[0m |  8 \u001b[90m 0\u001b[0m  3 |  4  5 \u001b[90m 0\u001b[0m \n",
      "\u001b[90m 0\u001b[0m  3 \u001b[90m 0\u001b[0m | \u001b[90m 0\u001b[0m \u001b[90m 0\u001b[0m  2 | \u001b[90m 0\u001b[0m  8  7 \n"
     ]
    }
   ],
   "source": [
    "print_sudoku_style(base)"
   ]
  },
  {
   "cell_type": "code",
   "execution_count": null,
   "id": "dd019ad1",
   "metadata": {},
   "outputs": [],
   "source": [
    "import functions as sudoku\n",
    "\n",
    "def unique_possibility(base, box):\n",
    "    # sudoku.print_sudoku_style(base)\n",
    "    n = base.shape[0]\n",
    "    box = box[box[:,2] == 0]\n",
    "    X,Y = box[:,0], box[:,1]\n",
    "    poss  = get_pos(base, np.array([X, Y]).T)\n",
    "    poss_all = np.unique(np.concatenate(poss))\n",
    "\n",
    "    #check if box has only one possible number\n",
    "    for i in range(len(poss)):\n",
    "        if len(poss[i]) == 1:\n",
    "            base[X[i], Y[i]] = poss[i][0]\n",
    "            print(f\"Box unique: {X[i], Y[i]} -> {poss[i][0]}\")\n",
    "\n",
    "    #check if number has only one possible box\n",
    "    bincount = np.bincount(np.concatenate(poss))\n",
    "    bincount = np.where(bincount[bincount!=0]==1)[0]\n",
    "    if len(bincount) != 0:\n",
    "        val_unique_box = poss_all[bincount]\n",
    "        for i in val_unique_box:\n",
    "            for j in range(len(poss)):\n",
    "                if i in poss[j]:\n",
    "                    base[X[j], Y[j]] = i\n",
    "                    print(f\"Box unique: {X[j], Y[j]} -> {i}\")\n",
    "                    break\n",
    "    return base\n",
    "\n",
    "\n"
   ]
  },
  {
   "cell_type": "code",
   "execution_count": null,
   "id": "b5c31f78",
   "metadata": {},
   "outputs": [
    {
     "name": "stdout",
     "output_type": "stream",
     "text": [
      "Box unique: (2, 1) -> 2\n",
      "Box unique: (2, 1) -> 2\n",
      " 4  6  3 |  5  9 \u001b[90m 0\u001b[0m |  7  2 \u001b[90m 0\u001b[0m \n",
      " 5  8  1 |  6 \u001b[90m 0\u001b[0m \u001b[90m 0\u001b[0m | \u001b[90m 0\u001b[0m  3 \u001b[90m 0\u001b[0m \n",
      " 7  2  9 | \u001b[90m 0\u001b[0m \u001b[90m 0\u001b[0m  4 | \u001b[90m 0\u001b[0m \u001b[90m 0\u001b[0m  5 \n",
      "-------------------------------\n",
      " 1  5  8 | \u001b[90m 0\u001b[0m  6 \u001b[90m 0\u001b[0m | \u001b[90m 0\u001b[0m \u001b[90m 0\u001b[0m \u001b[90m 0\u001b[0m \n",
      "\u001b[90m 0\u001b[0m  7  2 | \u001b[90m 0\u001b[0m \u001b[90m 0\u001b[0m \u001b[90m 0\u001b[0m |  8 \u001b[90m 0\u001b[0m  9 \n",
      "\u001b[90m 0\u001b[0m \u001b[90m 0\u001b[0m \u001b[90m 0\u001b[0m |  2  3  8 |  5  7 \u001b[90m 0\u001b[0m \n",
      "-------------------------------\n",
      "\u001b[90m 0\u001b[0m  1  5 |  4 \u001b[90m 0\u001b[0m \u001b[90m 0\u001b[0m | \u001b[90m 0\u001b[0m \u001b[90m 0\u001b[0m  2 \n",
      "\u001b[90m 0\u001b[0m \u001b[90m 0\u001b[0m \u001b[90m 0\u001b[0m |  8 \u001b[90m 0\u001b[0m  3 |  4  5 \u001b[90m 0\u001b[0m \n",
      "\u001b[90m 0\u001b[0m  3 \u001b[90m 0\u001b[0m | \u001b[90m 0\u001b[0m \u001b[90m 0\u001b[0m  2 | \u001b[90m 0\u001b[0m  8  7 \n"
     ]
    }
   ],
   "source": [
    "print_sudoku_style(unique_possibility(base,extract_groups_vectorized(base, [[0,0]], mode=\"box\", indices=True)))"
   ]
  },
  {
   "cell_type": "code",
   "execution_count": null,
   "id": "638a09e4",
   "metadata": {},
   "outputs": [],
   "source": []
  }
 ],
 "metadata": {
  "kernelspec": {
   "display_name": "Python 3",
   "language": "python",
   "name": "python3"
  },
  "language_info": {
   "codemirror_mode": {
    "name": "ipython",
    "version": 3
   },
   "file_extension": ".py",
   "mimetype": "text/x-python",
   "name": "python",
   "nbconvert_exporter": "python",
   "pygments_lexer": "ipython3",
   "version": "3.12.6"
  }
 },
 "nbformat": 4,
 "nbformat_minor": 5
}
