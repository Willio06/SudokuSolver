{
 "cells": [
  {
   "cell_type": "code",
   "execution_count": 1,
   "id": "91e0f81b",
   "metadata": {},
   "outputs": [],
   "source": [
    "import numpy as np\n",
    "import math\n",
    "import matplotlib.pyplot as plt"
   ]
  },
  {
   "cell_type": "code",
   "execution_count": 2,
   "id": "69b14d08",
   "metadata": {},
   "outputs": [],
   "source": [
    "def print_sudoku_style(arr):\n",
    "    GRAY = '\\033[90m'\n",
    "    RESET = '\\033[0m'\n",
    "    n = arr.shape[0]\n",
    "    block_size = int(math.sqrt(n))\n",
    "\n",
    "    for i in range(n):\n",
    "        # Print horizontal block separator\n",
    "        if i % block_size == 0 and i != 0:\n",
    "            print('-' * (4 * n + block_size - 8))\n",
    "        \n",
    "        row = ''\n",
    "        for j in range(n):\n",
    "            # Print vertical block separator\n",
    "            if j % block_size == 0 and j != 0:\n",
    "                row += '| '\n",
    "            \n",
    "            val = arr[i, j]\n",
    "            if val == 0:\n",
    "                row += f'{GRAY} 0{RESET} '\n",
    "            else:\n",
    "                row += f'{val:2} '\n",
    "        print(row)"
   ]
  },
  {
   "cell_type": "code",
   "execution_count": 3,
   "id": "7f858dc1",
   "metadata": {},
   "outputs": [],
   "source": [
    "def initialization(n):\n",
    "    base = np.zeros((n,n), dtype=int)\n",
    "    coos = np.array([(0,0,4),(0,2,3),(0,3,5),(0,3,5),(0,4,9),(0,6,7),(0,7,2),(1,1,8),(1,3,6),(1,7,3),(2,0,7),\n",
    "            (2,2,9),(2,5,4),(2,8,5),(3,0,1),(3,1,5),(3,2,8),(3,4,6),(4,1,7),(4,2,2),(4,6,8),(4,8,9),\n",
    "            (5,3,2),(5,4,3),(5,5,8),(5,6,5),(5,7,7),(6,1,1),(6,2,5),(6,3,4),(6,8,2),(7,3,8),(7,5,3),(7,6,4),(7,7,5),\n",
    "            (8,1,3),(8,5,2),(8,7,8),(8,8,7)])\n",
    "    base[coos[:,0], coos[:,1]] = coos[:,2]\n",
    "    return base"
   ]
  },
  {
   "cell_type": "code",
   "execution_count": 4,
   "id": "65a469a3",
   "metadata": {},
   "outputs": [],
   "source": [
    "def extract_groups_vectorized(arr, coords, mode=\"box\", indices=False):\n",
    "    n = arr.shape[0]\n",
    "    b = int(math.sqrt(n))\n",
    "    coords = np.array(coords)\n",
    "\n",
    "    def get_indices(i, j):\n",
    "        if mode == \"row\":\n",
    "            return np.full(n, i), np.arange(n)\n",
    "        elif mode == \"column\":\n",
    "            return np.arange(n), np.full(n, j)\n",
    "        elif mode == \"box\":\n",
    "            ti, tj = (i // b) * b, (j // b) * b\n",
    "            di, dj = np.meshgrid(np.arange(b), np.arange(b), indexing='ij')\n",
    "            return ti + di.ravel(), tj + dj.ravel()\n",
    "        else:\n",
    "            raise ValueError(\"Invalid mode\")\n",
    "\n",
    "    if indices:\n",
    "        all_entries = [\n",
    "            np.stack([*(idxs := get_indices(i, j)), arr[idxs]], axis=1)\n",
    "            for i, j in coords\n",
    "        ]\n",
    "        return np.vstack(all_entries)\n",
    "    else:\n",
    "        return np.array([arr[get_indices(i, j)] for i, j in coords])"
   ]
  },
  {
   "cell_type": "code",
   "execution_count": 5,
   "id": "291ed9ef",
   "metadata": {},
   "outputs": [
    {
     "name": "stdout",
     "output_type": "stream",
     "text": [
      " 4 \u001b[90m 0\u001b[0m  3 |  5  9 \u001b[90m 0\u001b[0m |  7  2 \u001b[90m 0\u001b[0m \n",
      "\u001b[90m 0\u001b[0m  8 \u001b[90m 0\u001b[0m |  6 \u001b[90m 0\u001b[0m \u001b[90m 0\u001b[0m | \u001b[90m 0\u001b[0m  3 \u001b[90m 0\u001b[0m \n",
      " 7 \u001b[90m 0\u001b[0m  9 | \u001b[90m 0\u001b[0m \u001b[90m 0\u001b[0m  4 | \u001b[90m 0\u001b[0m \u001b[90m 0\u001b[0m  5 \n",
      "-------------------------------\n",
      " 1  5  8 | \u001b[90m 0\u001b[0m  6 \u001b[90m 0\u001b[0m | \u001b[90m 0\u001b[0m \u001b[90m 0\u001b[0m \u001b[90m 0\u001b[0m \n",
      "\u001b[90m 0\u001b[0m  7  2 | \u001b[90m 0\u001b[0m \u001b[90m 0\u001b[0m \u001b[90m 0\u001b[0m |  8 \u001b[90m 0\u001b[0m  9 \n",
      "\u001b[90m 0\u001b[0m \u001b[90m 0\u001b[0m \u001b[90m 0\u001b[0m |  2  3  8 |  5  7 \u001b[90m 0\u001b[0m \n",
      "-------------------------------\n",
      "\u001b[90m 0\u001b[0m  1  5 |  4 \u001b[90m 0\u001b[0m \u001b[90m 0\u001b[0m | \u001b[90m 0\u001b[0m \u001b[90m 0\u001b[0m  2 \n",
      "\u001b[90m 0\u001b[0m \u001b[90m 0\u001b[0m \u001b[90m 0\u001b[0m |  8 \u001b[90m 0\u001b[0m  3 |  4  5 \u001b[90m 0\u001b[0m \n",
      "\u001b[90m 0\u001b[0m  3 \u001b[90m 0\u001b[0m | \u001b[90m 0\u001b[0m \u001b[90m 0\u001b[0m  2 | \u001b[90m 0\u001b[0m  8  7 \n",
      "\n",
      "\n",
      "\n",
      "Row 0: [[4 0 3 5 9 0 7 2 0]\n",
      " [0 7 2 0 0 0 8 0 9]]\t <class 'numpy.ndarray'>\n",
      "col 0: [[4 0 7 1 0 0 0 0 0]\n",
      " [9 0 0 6 0 3 0 0 0]]\t <class 'numpy.ndarray'>\n",
      "box 0: [[4 0 3 0 8 0 7 0 9]\n",
      " [0 6 0 0 0 0 2 3 8]]\t <class 'numpy.ndarray'>\n"
     ]
    }
   ],
   "source": [
    "np.printoptions(threshold=np.inf)\n",
    "base  = initialization(9)\n",
    "print_sudoku_style(base)\n",
    "print(\"\\n\\n\")\n",
    "# Extracting groups\n",
    "cos = [(0,0),(4,4)]\n",
    "row = extract_groups_vectorized(base, cos, mode=\"row\")\n",
    "print(f\"Row 0: {row}\\t {type(row)}\")\n",
    "col = extract_groups_vectorized(base, cos, mode=\"column\")\n",
    "print(f\"col 0: {col}\\t {type(col)}\")\n",
    "box = extract_groups_vectorized(base, cos, mode=\"box\")\n",
    "print(f\"box 0: {box}\\t {type(box)}\")\n"
   ]
  },
  {
   "cell_type": "code",
   "execution_count": 6,
   "id": "4e2336b2",
   "metadata": {},
   "outputs": [],
   "source": [
    "def get_pos(arr, coos):\n",
    "    \"\"\"\n",
    "    arr: the base game array\n",
    "    coos: the coordinates of the box to be checked in array\n",
    "    return: the possible numbers that can be put in the box\n",
    "    \"\"\"\n",
    "    n = arr.shape[0]\n",
    "    Pos= []\n",
    "    for i in range(coos.shape[0]):\n",
    "        pos = np.arange(1, n+1)\n",
    "        if np.all(base[coos[i,0], coos[i,1]]==0):\n",
    "            box = extract_groups_vectorized(arr, [coos[i]], mode=\"box\")\n",
    "            row = extract_groups_vectorized(arr, [coos[i]], mode=\"row\")\n",
    "            col = extract_groups_vectorized(arr, [coos[i]], mode=\"column\")\n",
    "            pos = np.setdiff1d(pos, box)\n",
    "            pos = np.setdiff1d(pos, row)\n",
    "            pos = np.setdiff1d(pos, col)\n",
    "            Pos.append(pos)\n",
    "        else:\n",
    "            print(\"\\033[91mWARNING\\033[0m: played box is called. check implementation\")\n",
    "            print(f\"\\t Already played box at any position in {coos}\")\n",
    "            return base[coos[:,0], coos[:,1]]\n",
    "    return Pos"
   ]
  },
  {
   "cell_type": "code",
   "execution_count": 7,
   "id": "e4b6bfb4",
   "metadata": {},
   "outputs": [
    {
     "data": {
      "text/plain": [
       "[array([6]), array([2, 5]), array([1, 4, 5])]"
      ]
     },
     "execution_count": 7,
     "metadata": {},
     "output_type": "execute_result"
    }
   ],
   "source": [
    "coos = np.array([(0,1),(1,0),(4,4)])\n",
    "get_pos(base, coos)"
   ]
  },
  {
   "cell_type": "code",
   "execution_count": 8,
   "id": "52dc360c",
   "metadata": {},
   "outputs": [],
   "source": [
    "def check_contradiction(base):\n",
    "    n = base.shape[0]\n",
    "    all_boxs = np.array([[0,0],[0,3],[0,6],[3,0],[3,3],[3,6],[6,0],[6,3],[6,6]])\n",
    "    for boxco in all_boxs:\n",
    "        box = extract_groups_vectorized(base, [boxco], mode=\"box\", indices=True)\n",
    "        vals = box[:,2]!=0\n",
    "        filled = box[vals,2]\n",
    "        xi, yi = box[np.logical_not(vals),0], box[np.logical_not(vals),1]\n",
    "        poss  = get_pos(base, np.array([xi, yi]).T)\n",
    "        poss_all = np.unique(np.concatenate(poss))\n",
    "        to_do = np.setdiff1d(np.arange(1,n+1), filled)\n",
    "        if not np.array_equal(poss_all, to_do):\n",
    "            print(\"\\033[91mWARNING\\033[0m: contradiction found\")\n",
    "            print(f\"\\t Missing possible numbers {np.setdiff1d(to_do,poss_all)} in box\\n{box[:,2]}\")\n",
    "            return True\n",
    "        if any(len(a) == 0 for a in poss):\n",
    "            i =[i for i, a in enumerate(poss) if len(a) == 0][0]\n",
    "            print(\"\\033[91mWARNING\\033[0m: contradiction found\")\n",
    "            print(f\"\\t No possible numbers at ({xi[i]},{yi[i]}) in box\\n{box}\")\n",
    "            return True\n",
    "    return False"
   ]
  },
  {
   "cell_type": "code",
   "execution_count": 9,
   "id": "de759f1c",
   "metadata": {},
   "outputs": [
    {
     "name": "stdout",
     "output_type": "stream",
     "text": [
      " 4 \u001b[90m 0\u001b[0m  3 |  5  9 \u001b[90m 0\u001b[0m |  7  2 \u001b[90m 0\u001b[0m \n",
      "\u001b[90m 0\u001b[0m  8 \u001b[90m 0\u001b[0m |  6 \u001b[90m 0\u001b[0m \u001b[90m 0\u001b[0m | \u001b[90m 0\u001b[0m  3 \u001b[90m 0\u001b[0m \n",
      " 7 \u001b[90m 0\u001b[0m  9 | \u001b[90m 0\u001b[0m \u001b[90m 0\u001b[0m  4 | \u001b[90m 0\u001b[0m \u001b[90m 0\u001b[0m  5 \n",
      "-------------------------------\n",
      " 1  5  8 | \u001b[90m 0\u001b[0m  6 \u001b[90m 0\u001b[0m | \u001b[90m 0\u001b[0m \u001b[90m 0\u001b[0m \u001b[90m 0\u001b[0m \n",
      "\u001b[90m 0\u001b[0m  7  2 | \u001b[90m 0\u001b[0m \u001b[90m 0\u001b[0m \u001b[90m 0\u001b[0m |  8 \u001b[90m 0\u001b[0m  9 \n",
      "\u001b[90m 0\u001b[0m \u001b[90m 0\u001b[0m \u001b[90m 0\u001b[0m |  2  3  8 |  5  7 \u001b[90m 0\u001b[0m \n",
      "-------------------------------\n",
      "\u001b[90m 0\u001b[0m  1  5 |  4 \u001b[90m 0\u001b[0m \u001b[90m 0\u001b[0m | \u001b[90m 0\u001b[0m \u001b[90m 0\u001b[0m  2 \n",
      "\u001b[90m 0\u001b[0m \u001b[90m 0\u001b[0m \u001b[90m 0\u001b[0m |  8 \u001b[90m 0\u001b[0m  3 |  4  5 \u001b[90m 0\u001b[0m \n",
      "\u001b[90m 0\u001b[0m  3 \u001b[90m 0\u001b[0m | \u001b[90m 0\u001b[0m \u001b[90m 0\u001b[0m  2 | \u001b[90m 0\u001b[0m  8  7 \n"
     ]
    }
   ],
   "source": [
    "print_sudoku_style(base)"
   ]
  },
  {
   "cell_type": "code",
   "execution_count": 10,
   "id": "65335f1b",
   "metadata": {},
   "outputs": [
    {
     "data": {
      "text/plain": [
       "False"
      ]
     },
     "execution_count": 10,
     "metadata": {},
     "output_type": "execute_result"
    }
   ],
   "source": [
    "check_contradiction(base)"
   ]
  },
  {
   "cell_type": "code",
   "execution_count": 11,
   "id": "7491e9ea",
   "metadata": {},
   "outputs": [
    {
     "data": {
      "text/plain": [
       "(array([1, 3, 7], dtype=int64),)"
      ]
     },
     "execution_count": 11,
     "metadata": {},
     "output_type": "execute_result"
    }
   ],
   "source": [
    "a=np.array([4, 0, 3, 0, 8, 5, 7, 0, 9])\n",
    "np.where(a==0)"
   ]
  },
  {
   "cell_type": "code",
   "execution_count": 12,
   "id": "565452bc",
   "metadata": {},
   "outputs": [],
   "source": [
    "def get_box_topleft_coords(n):\n",
    "    if(int(np.sqrt(n))**2 != n):\n",
    "        raise ValueError(\"n must be a perfect square\")\n",
    "    b = int(n**0.5)\n",
    "    starts = np.arange(0, n, b)\n",
    "    ii, jj = np.meshgrid(starts, starts, indexing='ij')\n",
    "    return np.stack([ii.ravel(), jj.ravel()], axis=1)\n",
    "\n"
   ]
  },
  {
   "cell_type": "code",
   "execution_count": 13,
   "id": "47a78829",
   "metadata": {},
   "outputs": [
    {
     "data": {
      "text/plain": [
       "array([[0, 0],\n",
       "       [0, 3],\n",
       "       [0, 6],\n",
       "       [3, 0],\n",
       "       [3, 3],\n",
       "       [3, 6],\n",
       "       [6, 0],\n",
       "       [6, 3],\n",
       "       [6, 6]])"
      ]
     },
     "execution_count": 13,
     "metadata": {},
     "output_type": "execute_result"
    }
   ],
   "source": [
    "get_box_topleft_coords(9)"
   ]
  },
  {
   "cell_type": "code",
   "execution_count": 14,
   "id": "2782b008",
   "metadata": {},
   "outputs": [
    {
     "name": "stdout",
     "output_type": "stream",
     "text": [
      " 4 \u001b[90m 0\u001b[0m  3 |  5  9 \u001b[90m 0\u001b[0m |  7  2 \u001b[90m 0\u001b[0m \n",
      "\u001b[90m 0\u001b[0m  8 \u001b[90m 0\u001b[0m |  6 \u001b[90m 0\u001b[0m \u001b[90m 0\u001b[0m | \u001b[90m 0\u001b[0m  3 \u001b[90m 0\u001b[0m \n",
      " 7 \u001b[90m 0\u001b[0m  9 | \u001b[90m 0\u001b[0m \u001b[90m 0\u001b[0m  4 | \u001b[90m 0\u001b[0m \u001b[90m 0\u001b[0m  5 \n",
      "-------------------------------\n",
      " 1  5  8 | \u001b[90m 0\u001b[0m  6 \u001b[90m 0\u001b[0m | \u001b[90m 0\u001b[0m \u001b[90m 0\u001b[0m \u001b[90m 0\u001b[0m \n",
      "\u001b[90m 0\u001b[0m  7  2 | \u001b[90m 0\u001b[0m \u001b[90m 0\u001b[0m \u001b[90m 0\u001b[0m |  8 \u001b[90m 0\u001b[0m  9 \n",
      "\u001b[90m 0\u001b[0m \u001b[90m 0\u001b[0m \u001b[90m 0\u001b[0m |  2  3  8 |  5  7 \u001b[90m 0\u001b[0m \n",
      "-------------------------------\n",
      "\u001b[90m 0\u001b[0m  1  5 |  4 \u001b[90m 0\u001b[0m \u001b[90m 0\u001b[0m | \u001b[90m 0\u001b[0m \u001b[90m 0\u001b[0m  2 \n",
      "\u001b[90m 0\u001b[0m \u001b[90m 0\u001b[0m \u001b[90m 0\u001b[0m |  8 \u001b[90m 0\u001b[0m  3 |  4  5 \u001b[90m 0\u001b[0m \n",
      "\u001b[90m 0\u001b[0m  3 \u001b[90m 0\u001b[0m | \u001b[90m 0\u001b[0m \u001b[90m 0\u001b[0m  2 | \u001b[90m 0\u001b[0m  8  7 \n"
     ]
    }
   ],
   "source": [
    "print_sudoku_style(base)"
   ]
  },
  {
   "cell_type": "code",
   "execution_count": 15,
   "id": "dd019ad1",
   "metadata": {},
   "outputs": [],
   "source": [
    "import functions as sudoku\n",
    "\n",
    "def unique_possibility(base, box):\n",
    "    # sudoku.print_sudoku_style(base)\n",
    "    n = base.shape[0]\n",
    "    box = box[box[:,2] == 0]\n",
    "    X,Y = box[:,0], box[:,1]\n",
    "    poss  = get_pos(base, np.array([X, Y]).T)\n",
    "    poss_all = np.unique(np.concatenate(poss))\n",
    "\n",
    "    #check if box has only one possible number\n",
    "    for i in range(len(poss)):\n",
    "        if len(poss[i]) == 1:\n",
    "            base[X[i], Y[i]] = poss[i][0]\n",
    "            print(f\"Box unique: {X[i], Y[i]} -> {poss[i][0]}\")\n",
    "\n",
    "    #check if number has only one possible box\n",
    "    bincount = np.bincount(np.concatenate(poss))\n",
    "    bincount = np.where(bincount[bincount!=0]==1)[0]\n",
    "    if len(bincount) != 0:\n",
    "        val_unique_box = poss_all[bincount]\n",
    "        for i in val_unique_box:\n",
    "            for j in range(len(poss)):\n",
    "                if i in poss[j]:\n",
    "                    base[X[j], Y[j]] = i\n",
    "                    print(f\"Box unique: {X[j], Y[j]} -> {i}\")\n",
    "                    break\n",
    "    return base\n",
    "\n",
    "\n"
   ]
  },
  {
   "cell_type": "code",
   "execution_count": 16,
   "id": "b5c31f78",
   "metadata": {},
   "outputs": [
    {
     "name": "stdout",
     "output_type": "stream",
     "text": [
      "Box unique: (0, 1) -> 6\n",
      "Box unique: (1, 2) -> 1\n",
      "Box unique: (1, 2) -> 1\n",
      "Box unique: (1, 0) -> 5\n",
      " 4  6  3 |  5  9 \u001b[90m 0\u001b[0m |  7  2 \u001b[90m 0\u001b[0m \n",
      " 5  8  1 |  6 \u001b[90m 0\u001b[0m \u001b[90m 0\u001b[0m | \u001b[90m 0\u001b[0m  3 \u001b[90m 0\u001b[0m \n",
      " 7 \u001b[90m 0\u001b[0m  9 | \u001b[90m 0\u001b[0m \u001b[90m 0\u001b[0m  4 | \u001b[90m 0\u001b[0m \u001b[90m 0\u001b[0m  5 \n",
      "-------------------------------\n",
      " 1  5  8 | \u001b[90m 0\u001b[0m  6 \u001b[90m 0\u001b[0m | \u001b[90m 0\u001b[0m \u001b[90m 0\u001b[0m \u001b[90m 0\u001b[0m \n",
      "\u001b[90m 0\u001b[0m  7  2 | \u001b[90m 0\u001b[0m \u001b[90m 0\u001b[0m \u001b[90m 0\u001b[0m |  8 \u001b[90m 0\u001b[0m  9 \n",
      "\u001b[90m 0\u001b[0m \u001b[90m 0\u001b[0m \u001b[90m 0\u001b[0m |  2  3  8 |  5  7 \u001b[90m 0\u001b[0m \n",
      "-------------------------------\n",
      "\u001b[90m 0\u001b[0m  1  5 |  4 \u001b[90m 0\u001b[0m \u001b[90m 0\u001b[0m | \u001b[90m 0\u001b[0m \u001b[90m 0\u001b[0m  2 \n",
      "\u001b[90m 0\u001b[0m \u001b[90m 0\u001b[0m \u001b[90m 0\u001b[0m |  8 \u001b[90m 0\u001b[0m  3 |  4  5 \u001b[90m 0\u001b[0m \n",
      "\u001b[90m 0\u001b[0m  3 \u001b[90m 0\u001b[0m | \u001b[90m 0\u001b[0m \u001b[90m 0\u001b[0m  2 | \u001b[90m 0\u001b[0m  8  7 \n"
     ]
    }
   ],
   "source": [
    "print_sudoku_style(unique_possibility(base,extract_groups_vectorized(base, [[0,0]], mode=\"box\", indices=True)))"
   ]
  },
  {
   "cell_type": "code",
   "execution_count": 17,
   "id": "638a09e4",
   "metadata": {},
   "outputs": [],
   "source": [
    "from split_image import split_image"
   ]
  },
  {
   "cell_type": "code",
   "execution_count": 35,
   "id": "565174a4",
   "metadata": {},
   "outputs": [
    {
     "name": "stdout",
     "output_type": "stream",
     "text": [
      "Exporting image tile: ./splits/testt2_0.png\n",
      "Exporting image tile: ./splits/testt2_1.png\n",
      "Exporting image tile: ./splits/testt2_2.png\n",
      "Exporting image tile: ./splits/testt2_3.png\n",
      "Exporting image tile: ./splits/testt2_4.png\n",
      "Exporting image tile: ./splits/testt2_5.png\n",
      "Exporting image tile: ./splits/testt2_6.png\n",
      "Exporting image tile: ./splits/testt2_7.png\n",
      "Exporting image tile: ./splits/testt2_8.png\n",
      "Exporting image tile: ./splits/testt2_9.png\n",
      "Exporting image tile: ./splits/testt2_10.png\n",
      "Exporting image tile: ./splits/testt2_11.png\n",
      "Exporting image tile: ./splits/testt2_12.png\n",
      "Exporting image tile: ./splits/testt2_13.png\n",
      "Exporting image tile: ./splits/testt2_14.png\n",
      "Exporting image tile: ./splits/testt2_15.png\n",
      "Exporting image tile: ./splits/testt2_16.png\n",
      "Exporting image tile: ./splits/testt2_17.png\n",
      "Exporting image tile: ./splits/testt2_18.png\n",
      "Exporting image tile: ./splits/testt2_19.png\n",
      "Exporting image tile: ./splits/testt2_20.png\n",
      "Exporting image tile: ./splits/testt2_21.png\n",
      "Exporting image tile: ./splits/testt2_22.png\n",
      "Exporting image tile: ./splits/testt2_23.png\n",
      "Exporting image tile: ./splits/testt2_24.png\n",
      "Exporting image tile: ./splits/testt2_25.png\n",
      "Exporting image tile: ./splits/testt2_26.png\n",
      "Exporting image tile: ./splits/testt2_27.png\n",
      "Exporting image tile: ./splits/testt2_28.png\n",
      "Exporting image tile: ./splits/testt2_29.png\n",
      "Exporting image tile: ./splits/testt2_30.png\n",
      "Exporting image tile: ./splits/testt2_31.png\n",
      "Exporting image tile: ./splits/testt2_32.png\n",
      "Exporting image tile: ./splits/testt2_33.png\n",
      "Exporting image tile: ./splits/testt2_34.png\n",
      "Exporting image tile: ./splits/testt2_35.png\n",
      "Exporting image tile: ./splits/testt2_36.png\n",
      "Exporting image tile: ./splits/testt2_37.png\n",
      "Exporting image tile: ./splits/testt2_38.png\n",
      "Exporting image tile: ./splits/testt2_39.png\n",
      "Exporting image tile: ./splits/testt2_40.png\n",
      "Exporting image tile: ./splits/testt2_41.png\n",
      "Exporting image tile: ./splits/testt2_42.png\n",
      "Exporting image tile: ./splits/testt2_43.png\n",
      "Exporting image tile: ./splits/testt2_44.png\n",
      "Exporting image tile: ./splits/testt2_45.png\n",
      "Exporting image tile: ./splits/testt2_46.png\n",
      "Exporting image tile: ./splits/testt2_47.png\n",
      "Exporting image tile: ./splits/testt2_48.png\n",
      "Exporting image tile: ./splits/testt2_49.png\n",
      "Exporting image tile: ./splits/testt2_50.png\n",
      "Exporting image tile: ./splits/testt2_51.png\n",
      "Exporting image tile: ./splits/testt2_52.png\n",
      "Exporting image tile: ./splits/testt2_53.png\n",
      "Exporting image tile: ./splits/testt2_54.png\n",
      "Exporting image tile: ./splits/testt2_55.png\n",
      "Exporting image tile: ./splits/testt2_56.png\n",
      "Exporting image tile: ./splits/testt2_57.png\n",
      "Exporting image tile: ./splits/testt2_58.png\n",
      "Exporting image tile: ./splits/testt2_59.png\n",
      "Exporting image tile: ./splits/testt2_60.png\n",
      "Exporting image tile: ./splits/testt2_61.png\n",
      "Exporting image tile: ./splits/testt2_62.png\n",
      "Exporting image tile: ./splits/testt2_63.png\n",
      "Exporting image tile: ./splits/testt2_64.png\n",
      "Exporting image tile: ./splits/testt2_65.png\n",
      "Exporting image tile: ./splits/testt2_66.png\n",
      "Exporting image tile: ./splits/testt2_67.png\n",
      "Exporting image tile: ./splits/testt2_68.png\n",
      "Exporting image tile: ./splits/testt2_69.png\n",
      "Exporting image tile: ./splits/testt2_70.png\n",
      "Exporting image tile: ./splits/testt2_71.png\n",
      "Exporting image tile: ./splits/testt2_72.png\n",
      "Exporting image tile: ./splits/testt2_73.png\n",
      "Exporting image tile: ./splits/testt2_74.png\n",
      "Exporting image tile: ./splits/testt2_75.png\n",
      "Exporting image tile: ./splits/testt2_76.png\n",
      "Exporting image tile: ./splits/testt2_77.png\n",
      "Exporting image tile: ./splits/testt2_78.png\n",
      "Exporting image tile: ./splits/testt2_79.png\n",
      "Exporting image tile: ./splits/testt2_80.png\n"
     ]
    }
   ],
   "source": [
    "split_image(\"exampleSudokus/testt2.png\",9,9,should_cleanup=False,should_square=False, output_dir=\"./splits/\")"
   ]
  },
  {
   "cell_type": "code",
   "execution_count": 91,
   "id": "3378c09a",
   "metadata": {},
   "outputs": [],
   "source": [
    "from PIL import Image\n",
    "\n",
    "# Open the image\n",
    "image = Image.open(\"./splits/testt2_24.png\")\n",
    "\n",
    "# Convert the image to grayscale. The `\"L\"` argument in Pillow represents grayscale mode.\n",
    "grayscale_image = image.convert(\"L\")\n",
    "\n",
    "# Save the grayscale image\n",
    "grayscale_image.save(\"./splits/testt2_24.png\")"
   ]
  },
  {
   "cell_type": "code",
   "execution_count": 92,
   "id": "a60bf124",
   "metadata": {},
   "outputs": [],
   "source": [
    "from CNN import ModelLogger, MNIST_ResNet, show_sample_images,Loader\n",
    "import torchvision.transforms.v2 as transforms\n",
    "import torch\n",
    "import numpy as np\n",
    "import openml\n"
   ]
  },
  {
   "cell_type": "code",
   "execution_count": 93,
   "id": "226b7c8c",
   "metadata": {},
   "outputs": [],
   "source": [
    "# device = torch.device(\"cuda\" if torch.cuda.is_available() else \"cpu\")\n",
    "modelLogger  = ModelLogger(\"model_1\")\n",
    "model = MNIST_ResNet(classes=11)\n",
    "model = modelLogger.load_model(model)"
   ]
  },
  {
   "cell_type": "code",
   "execution_count": 94,
   "id": "7543aabe",
   "metadata": {},
   "outputs": [],
   "source": [
    "import torch\n",
    "import matplotlib.pyplot as plt\n",
    "\n",
    "def plot_tensor_plasma(tensor, title=\"Tensor Visualization\"):\n",
    "    \"\"\"\n",
    "    Plots a torch tensor using the 'plasma' colormap.\n",
    "\n",
    "    Args:\n",
    "        tensor (torch.Tensor): 2D or 3D tensor. If 3D, it should be [C, H, W] or [H, W, C].\n",
    "        title (str): Title of the plot.\n",
    "    \"\"\"\n",
    "    # Detach from graph and move to CPU\n",
    "    tensor = tensor.detach().cpu()\n",
    "    \n",
    "    # If 3D, convert to 2D by taking mean across channels\n",
    "    if tensor.dim() == 3:\n",
    "        if tensor.shape[0] <= 4:  # assume shape is [C, H, W]\n",
    "            tensor = tensor.mean(dim=0)  # average over channels\n",
    "        else:  # maybe [H, W, C]\n",
    "            tensor = tensor.mean(dim=2)\n",
    "    \n",
    "    # Ensure it's now 2D\n",
    "    assert tensor.dim() == 2, \"Tensor must be 2D or convertible to 2D.\"\n",
    "\n",
    "    plt.imshow(tensor.numpy(), cmap='plasma')\n",
    "    plt.colorbar()\n",
    "    plt.title(title)\n",
    "    plt.axis('off')\n",
    "    plt.show()\n"
   ]
  },
  {
   "cell_type": "code",
   "execution_count": 95,
   "id": "c2419a4a",
   "metadata": {},
   "outputs": [
    {
     "data": {
      "image/png": "[encoded data removed]",
      "text/plain": [
       "<Figure size 640x480 with 2 Axes>"
      ]
     },
     "metadata": {},
     "output_type": "display_data"
    }
   ],
   "source": [
    "MNIST = openml.datasets.get_dataset(554)\n",
    "X_all, y_all, categorical_indicator, attribute_names = MNIST.get_data(target=MNIST.default_target_attribute)\n",
    "X_all = X_all.astype(float)/255.0  # Normalize the dataset to [0, 1]\n",
    "XX = X_all.iloc[0]\n",
    "yy = y_all.iloc[0]\n",
    "XX = torch.tensor(XX.values).reshape(-1, 1, 28, 28)\n",
    "XX = XX.float()\n",
    "\n",
    "plot_tensor_plasma(XX.reshape(28,28))"
   ]
  },
  {
   "cell_type": "code",
   "execution_count": 96,
   "id": "406bd5d6",
   "metadata": {},
   "outputs": [],
   "source": [
    "import numpy as np\n",
    "from PIL import Image\n",
    "\n",
    "class TrimLowActivity:\n",
    "    def __init__(self, threshold=0.5, percent=5):\n",
    "        self.threshold = threshold      # e.g., pixel value threshold (0.5)\n",
    "        self.percent = percent / 100.0  # e.g., 5% = 0.05\n",
    "\n",
    "    def __call__(self, img):\n",
    "        # Convert PIL to NumPy\n",
    "        img_np = np.array(img).astype(np.float32)\n",
    "\n",
    "        # Normalize if in 0-255 range\n",
    "        if img_np.max() > 1:\n",
    "            img_np /= 255.0\n",
    "\n",
    "        # Row mask: keep rows where enough pixels > threshold\n",
    "        row_activity = np.mean(img_np > self.threshold, axis=1)\n",
    "        valid_rows = row_activity > self.percent\n",
    "\n",
    "        # Column mask: same for columns\n",
    "        col_activity = np.mean(img_np > self.threshold, axis=0)\n",
    "        valid_cols = col_activity > self.percent\n",
    "\n",
    "        # Trim the image\n",
    "        trimmed = img_np[np.ix_(valid_rows, valid_cols)]\n",
    "\n",
    "        # Resize to 28x28 again (or keep as is if preferred)\n",
    "        trimmed_img = Image.fromarray((trimmed * 255).astype(np.uint8)).resize((28, 28))\n",
    "\n",
    "        return trimmed_img\n"
   ]
  },
  {
   "cell_type": "code",
   "execution_count": 102,
   "id": "b2f95ef4",
   "metadata": {},
   "outputs": [],
   "source": [
    "from PIL import Image\n",
    "\n",
    "# Open the image\n",
    "image = Image.open(\"./splits/testt2_42.png\")\n",
    "\n",
    "# Convert the image to grayscale. The `\"L\"` argument in Pillow represents grayscale mode.\n",
    "grayscale_image = image.convert(\"L\")\n",
    "\n",
    "# Save the grayscale image\n",
    "grayscale_image.save(\"./splits/testt2_42.png\")"
   ]
  },
  {
   "cell_type": "code",
   "execution_count": 107,
   "id": "d50b63c7",
   "metadata": {},
   "outputs": [
    {
     "data": {
      "image/png": "[encoded data removed]",
      "text/plain": [
       "<Figure size 640x480 with 2 Axes>"
      ]
     },
     "metadata": {},
     "output_type": "display_data"
    },
    {
     "name": "stdout",
     "output_type": "stream",
     "text": [
      "tensor([[-0.9292, -0.6044,  0.5070, -0.6118, -0.4734,  1.1506, -0.3202,  3.0405,\n",
      "         -0.3401, -0.5664, -0.7522]])\n",
      "7\n"
     ]
    }
   ],
   "source": [
    "transform = transforms.Compose([TrimLowActivity(threshold=0, percent=10),transforms.PILToTensor(), transforms.Resize((28,28)), transforms.CenterCrop((28,28))])\n",
    "X=1-transform(Image.open(\"./splits/testt2_62.png\"))\n",
    "X = X.unsqueeze(0)/255\n",
    "plot_tensor_plasma(X.reshape(28,28))\n",
    "with torch.no_grad():\n",
    "    model.eval()\n",
    "    yd = model(X)\n",
    "    print(yd)\n",
    "    num = np.argmax(yd)\n",
    "    print(num.item())"
   ]
  },
  {
   "cell_type": "code",
   "execution_count": 73,
   "id": "5fa1b040",
   "metadata": {},
   "outputs": [
    {
     "name": "stdout",
     "output_type": "stream",
     "text": [
      "tensor([[[[0.1412, 0.2471, 0.2471, 0.2471, 0.2471, 0.2431, 0.1098, 0.0392,\n",
      "           0.0392, 0.0392, 0.0392, 0.0392, 0.0392, 0.0392, 0.0392, 0.0392,\n",
      "           0.0392, 0.0392, 0.0392, 0.0392, 0.0392, 0.0392, 0.0392, 0.0392,\n",
      "           0.0392, 0.0392, 0.0392, 0.0392],\n",
      "          [0.2706, 0.3529, 0.3529, 0.3529, 0.3529, 0.3451, 0.2431, 0.1843,\n",
      "           0.1804, 0.1804, 0.1804, 0.1804, 0.1804, 0.1804, 0.1804, 0.1804,\n",
      "           0.1804, 0.1843, 0.1843, 0.1843, 0.1843, 0.1843, 0.1843, 0.1843,\n",
      "           0.1843, 0.1843, 0.1843, 0.1843],\n",
      "          [0.7059, 0.7059, 0.7059, 0.7059, 0.7020, 0.7020, 0.6941, 0.6902,\n",
      "           0.6902, 0.6902, 0.6941, 0.6941, 0.6941, 0.6941, 0.6941, 0.6980,\n",
      "           0.6980, 0.6980, 0.6980, 0.6980, 0.6980, 0.6980, 0.7020, 0.7059,\n",
      "           0.7059, 0.7059, 0.7059, 0.7098],\n",
      "          [0.7569, 0.7373, 0.7373, 0.7373, 0.7373, 0.7451, 0.7412, 0.7451,\n",
      "           0.7451, 0.7490, 0.7529, 0.7529, 0.7529, 0.7529, 0.7529, 0.7569,\n",
      "           0.7608, 0.7608, 0.7608, 0.7608, 0.7608, 0.7608, 0.7647, 0.7686,\n",
      "           0.7686, 0.7686, 0.7686, 0.7725],\n",
      "          [0.6784, 0.6627, 0.6627, 0.6627, 0.6784, 0.6941, 0.6745, 0.6667,\n",
      "           0.6706, 0.6745, 0.6784, 0.6784, 0.6784, 0.6784, 0.6784, 0.6824,\n",
      "           0.6824, 0.6824, 0.6824, 0.6824, 0.6824, 0.6824, 0.6863, 0.6902,\n",
      "           0.6902, 0.6902, 0.6863, 0.6902],\n",
      "          [0.1451, 0.1412, 0.1412, 0.1412, 0.2353, 0.3137, 0.2000, 0.1412,\n",
      "           0.1412, 0.1412, 0.1412, 0.1451, 0.1451, 0.1451, 0.1451, 0.1451,\n",
      "           0.1451, 0.1451, 0.1451, 0.1451, 0.1451, 0.1451, 0.1451, 0.1490,\n",
      "           0.1490, 0.1490, 0.1451, 0.1490],\n",
      "          [0.0353, 0.0392, 0.0392, 0.0392, 0.1490, 0.2431, 0.1059, 0.0353,\n",
      "           0.0353, 0.0353, 0.0353, 0.0353, 0.0353, 0.0353, 0.0353, 0.0353,\n",
      "           0.0353, 0.0353, 0.0392, 0.0392, 0.0392, 0.0392, 0.0392, 0.0353,\n",
      "           0.0353, 0.0353, 0.0353, 0.0353],\n",
      "          [0.0353, 0.0353, 0.0353, 0.0353, 0.1490, 0.2431, 0.1059, 0.0353,\n",
      "           0.0353, 0.0353, 0.0353, 0.0353, 0.0353, 0.0353, 0.0353, 0.0353,\n",
      "           0.0353, 0.0353, 0.0353, 0.0353, 0.0353, 0.0353, 0.0353, 0.0353,\n",
      "           0.0353, 0.0353, 0.0353, 0.0353],\n",
      "          [0.0353, 0.0353, 0.0353, 0.0353, 0.1490, 0.2431, 0.1059, 0.0353,\n",
      "           0.0353, 0.0353, 0.0353, 0.0353, 0.0353, 0.0353, 0.0353, 0.0353,\n",
      "           0.0353, 0.0392, 0.0588, 0.0667, 0.0627, 0.0392, 0.0353, 0.0353,\n",
      "           0.0353, 0.0353, 0.0353, 0.0353],\n",
      "          [0.0353, 0.0353, 0.0353, 0.0353, 0.1490, 0.2431, 0.1059, 0.0353,\n",
      "           0.0353, 0.0353, 0.0353, 0.0353, 0.0353, 0.0588, 0.1059, 0.2078,\n",
      "           0.3333, 0.4078, 0.4784, 0.5020, 0.4902, 0.4118, 0.3020, 0.1333,\n",
      "           0.0510, 0.0431, 0.0353, 0.0353],\n",
      "          [0.0353, 0.0353, 0.0353, 0.0353, 0.1490, 0.2431, 0.1059, 0.0353,\n",
      "           0.0353, 0.0353, 0.0353, 0.0353, 0.0353, 0.1804, 0.5647, 0.7333,\n",
      "           0.7882, 0.8157, 0.8196, 0.8196, 0.8196, 0.8157, 0.7725, 0.6471,\n",
      "           0.3882, 0.2667, 0.0353, 0.0353],\n",
      "          [0.0353, 0.0353, 0.0353, 0.0353, 0.1490, 0.2392, 0.1059, 0.0353,\n",
      "           0.0353, 0.0353, 0.0353, 0.0353, 0.0353, 0.2275, 0.7451, 0.8196,\n",
      "           0.8196, 0.8157, 0.8118, 0.8196, 0.8196, 0.8196, 0.8196, 0.8196,\n",
      "           0.8039, 0.5922, 0.0353, 0.0353],\n",
      "          [0.0353, 0.0353, 0.0353, 0.0353, 0.1490, 0.2392, 0.1059, 0.0353,\n",
      "           0.0353, 0.0353, 0.0353, 0.0353, 0.0353, 0.2275, 0.7490, 0.8196,\n",
      "           0.8157, 0.7608, 0.7843, 0.8196, 0.8196, 0.8196, 0.8196, 0.8196,\n",
      "           0.8196, 0.6078, 0.0353, 0.0353],\n",
      "          [0.0353, 0.0353, 0.0353, 0.0353, 0.1490, 0.2392, 0.1059, 0.0353,\n",
      "           0.0353, 0.0353, 0.0353, 0.0353, 0.0353, 0.2314, 0.7490, 0.8196,\n",
      "           0.7725, 0.7176, 0.7804, 0.8196, 0.8196, 0.8196, 0.8196, 0.8196,\n",
      "           0.8196, 0.6157, 0.0353, 0.0353],\n",
      "          [0.0353, 0.0353, 0.0353, 0.0353, 0.1490, 0.2392, 0.1059, 0.0353,\n",
      "           0.0353, 0.0353, 0.0353, 0.0353, 0.0353, 0.2235, 0.7294, 0.8078,\n",
      "           0.7490, 0.7098, 0.7725, 0.8118, 0.8118, 0.8118, 0.8196, 0.8196,\n",
      "           0.8157, 0.4745, 0.0353, 0.0353],\n",
      "          [0.0353, 0.0353, 0.0353, 0.0353, 0.1490, 0.2392, 0.1059, 0.0353,\n",
      "           0.0353, 0.0353, 0.0353, 0.0353, 0.0353, 0.0941, 0.3647, 0.4902,\n",
      "           0.4863, 0.4784, 0.4941, 0.5020, 0.5176, 0.7098, 0.8157, 0.8196,\n",
      "           0.7647, 0.2392, 0.0353, 0.0353],\n",
      "          [0.0353, 0.0353, 0.0353, 0.0353, 0.1490, 0.2392, 0.1059, 0.0353,\n",
      "           0.0353, 0.0353, 0.0353, 0.0353, 0.0353, 0.0353, 0.0353, 0.0353,\n",
      "           0.0353, 0.0353, 0.0353, 0.0431, 0.2902, 0.7765, 0.8196, 0.8039,\n",
      "           0.5647, 0.1412, 0.0353, 0.0353],\n",
      "          [0.0353, 0.0353, 0.0353, 0.0353, 0.1490, 0.2392, 0.1059, 0.0353,\n",
      "           0.0353, 0.0353, 0.0353, 0.0353, 0.0353, 0.0353, 0.0353, 0.0353,\n",
      "           0.0353, 0.0353, 0.0392, 0.2000, 0.6863, 0.8196, 0.8157, 0.6157,\n",
      "           0.1608, 0.0588, 0.0353, 0.0353],\n",
      "          [0.0353, 0.0353, 0.0353, 0.0353, 0.1490, 0.2392, 0.1059, 0.0353,\n",
      "           0.0353, 0.0353, 0.0353, 0.0353, 0.0353, 0.0353, 0.0353, 0.0353,\n",
      "           0.0353, 0.0392, 0.1529, 0.5843, 0.8118, 0.8196, 0.6980, 0.2471,\n",
      "           0.0392, 0.0353, 0.0353, 0.0353],\n",
      "          [0.0353, 0.0353, 0.0353, 0.0353, 0.1490, 0.2392, 0.1059, 0.0353,\n",
      "           0.0353, 0.0353, 0.0353, 0.0353, 0.0353, 0.0353, 0.0353, 0.0353,\n",
      "           0.0353, 0.1137, 0.5373, 0.8000, 0.8196, 0.7608, 0.3373, 0.0549,\n",
      "           0.0353, 0.0353, 0.0353, 0.0353],\n",
      "          [0.0353, 0.0353, 0.0353, 0.0353, 0.1490, 0.2392, 0.1059, 0.0353,\n",
      "           0.0353, 0.0353, 0.0353, 0.0353, 0.0353, 0.0353, 0.0353, 0.0353,\n",
      "           0.0902, 0.5176, 0.7961, 0.8196, 0.7961, 0.4078, 0.0627, 0.0353,\n",
      "           0.0353, 0.0353, 0.0353, 0.0353],\n",
      "          [0.0353, 0.0353, 0.0353, 0.0353, 0.1490, 0.2392, 0.1059, 0.0353,\n",
      "           0.0353, 0.0353, 0.0353, 0.0353, 0.0353, 0.0353, 0.0353, 0.0706,\n",
      "           0.4863, 0.8039, 0.8196, 0.8000, 0.4784, 0.0706, 0.0353, 0.0353,\n",
      "           0.0353, 0.0353, 0.0353, 0.0353],\n",
      "          [0.0353, 0.0353, 0.0353, 0.0353, 0.1490, 0.2392, 0.1059, 0.0353,\n",
      "           0.0353, 0.0353, 0.0353, 0.0353, 0.0353, 0.0353, 0.0902, 0.4353,\n",
      "           0.7882, 0.8196, 0.7961, 0.5373, 0.1020, 0.0353, 0.0353, 0.0353,\n",
      "           0.0353, 0.0353, 0.0353, 0.0353],\n",
      "          [0.0353, 0.0353, 0.0353, 0.0353, 0.1490, 0.2392, 0.1059, 0.0353,\n",
      "           0.0353, 0.0353, 0.0353, 0.0353, 0.0353, 0.0863, 0.4353, 0.7686,\n",
      "           0.8196, 0.8157, 0.7098, 0.4039, 0.3098, 0.3059, 0.3059, 0.3059,\n",
      "           0.2863, 0.2471, 0.0627, 0.0353],\n",
      "          [0.0353, 0.0353, 0.0353, 0.0353, 0.1490, 0.2392, 0.1059, 0.0353,\n",
      "           0.0353, 0.0353, 0.0353, 0.0353, 0.0353, 0.2745, 0.7451, 0.8196,\n",
      "           0.8196, 0.8196, 0.7961, 0.7765, 0.7765, 0.7765, 0.7765, 0.7765,\n",
      "           0.7686, 0.6392, 0.0980, 0.0353],\n",
      "          [0.0353, 0.0353, 0.0353, 0.0353, 0.1490, 0.2392, 0.1059, 0.0353,\n",
      "           0.0353, 0.0353, 0.0353, 0.0353, 0.0353, 0.3216, 0.7765, 0.8196,\n",
      "           0.8196, 0.8196, 0.8196, 0.8196, 0.8196, 0.8196, 0.8196, 0.8196,\n",
      "           0.8196, 0.6784, 0.1020, 0.0353],\n",
      "          [0.0353, 0.0353, 0.0353, 0.0353, 0.1490, 0.2392, 0.1059, 0.0353,\n",
      "           0.0353, 0.0353, 0.0353, 0.0353, 0.0353, 0.2902, 0.6784, 0.7098,\n",
      "           0.7098, 0.7098, 0.7098, 0.7098, 0.7098, 0.7098, 0.7098, 0.7098,\n",
      "           0.7098, 0.5961, 0.1020, 0.0353],\n",
      "          [0.0353, 0.0353, 0.0353, 0.0353, 0.1490, 0.2392, 0.1059, 0.0353,\n",
      "           0.0353, 0.0353, 0.0353, 0.0353, 0.0353, 0.1059, 0.1765, 0.1804,\n",
      "           0.1804, 0.1804, 0.1804, 0.1804, 0.1804, 0.1804, 0.1804, 0.1804,\n",
      "           0.1804, 0.1725, 0.0667, 0.0353]]]])\n"
     ]
    }
   ],
   "source": [
    "print(X)"
   ]
  },
  {
   "cell_type": "code",
   "execution_count": 1,
   "id": "5cc18888",
   "metadata": {},
   "outputs": [],
   "source": [
    "from imageLoader import prepper\n",
    "import numpy as np\n",
    "import functions as sudoku\n",
    "\n"
   ]
  },
  {
   "cell_type": "code",
   "execution_count": 2,
   "id": "1355124d",
   "metadata": {},
   "outputs": [],
   "source": [
    "numbers  = np.array(prepper(\"medium.png\",n=9, split_dir=\"./splits/\"))\n",
    "base = numbers.reshape((9,9))\n"
   ]
  },
  {
   "cell_type": "code",
   "execution_count": 3,
   "id": "cfda9eea",
   "metadata": {},
   "outputs": [
    {
     "data": {
      "text/plain": [
       "array([[7, 0, 3, 0, 0, 0, 0, 2, 0],\n",
       "       [8, 0, 0, 0, 0, 2, 7, 0, 0],\n",
       "       [0, 2, 0, 0, 0, 4, 0, 0, 0],\n",
       "       [9, 0, 0, 0, 0, 0, 0, 0, 0],\n",
       "       [5, 0, 0, 0, 8, 0, 0, 3, 0],\n",
       "       [3, 8, 7, 0, 0, 0, 0, 0, 9],\n",
       "       [0, 9, 0, 8, 0, 7, 2, 4, 0],\n",
       "       [0, 0, 0, 2, 0, 0, 0, 0, 3],\n",
       "       [0, 0, 0, 0, 1, 0, 0, 8, 0]])"
      ]
     },
     "execution_count": 3,
     "metadata": {},
     "output_type": "execute_result"
    }
   ],
   "source": [
    "base"
   ]
  },
  {
   "cell_type": "code",
   "execution_count": 4,
   "id": "7ca79210",
   "metadata": {},
   "outputs": [
    {
     "data": {
      "text/plain": [
       "[array([1, 4, 5, 6]), array([1, 4, 5, 6, 9])]"
      ]
     },
     "execution_count": 4,
     "metadata": {},
     "output_type": "execute_result"
    }
   ],
   "source": [
    "boxco = sudoku.get_box_topleft_coords(9)\n",
    "box = sudoku.extract_groups_vectorized(base, [boxco[3]], mode=\"box\", indices=True)\n",
    "box = box[box[:,2] == 0]\n",
    "X,Y = box[:,0], box[:,1]\n",
    "poss  = sudoku.get_pos(base, np.array([X, Y]).T)\n",
    "sudoku.get_pos(base, np.array([[0,1],[1,2]]))"
   ]
  },
  {
   "cell_type": "code",
   "execution_count": 5,
   "id": "2c341610",
   "metadata": {},
   "outputs": [
    {
     "data": {
      "text/plain": [
       "[array([1, 4, 6]), array([1, 2, 4, 6]), array([1, 4, 6]), array([1, 2, 4, 6])]"
      ]
     },
     "execution_count": 5,
     "metadata": {},
     "output_type": "execute_result"
    }
   ],
   "source": [
    "poss"
   ]
  },
  {
   "cell_type": "code",
   "execution_count": 6,
   "id": "43b964cf",
   "metadata": {},
   "outputs": [
    {
     "data": {
      "text/plain": [
       "(array([3, 3, 4, 4]), array([1, 2, 1, 2]))"
      ]
     },
     "execution_count": 6,
     "metadata": {},
     "output_type": "execute_result"
    }
   ],
   "source": [
    "X,Y\n"
   ]
  },
  {
   "cell_type": "code",
   "execution_count": 89,
   "id": "c072ef51",
   "metadata": {},
   "outputs": [
    {
     "data": {
      "text/plain": [
       "array([[7, 0, 3, 0, 0, 0, 0, 2, 0],\n",
       "       [8, 0, 0, 0, 0, 2, 7, 0, 0],\n",
       "       [0, 2, 0, 0, 0, 4, 0, 0, 0],\n",
       "       [9, 0, 0, 0, 0, 0, 0, 0, 0],\n",
       "       [5, 0, 0, 0, 8, 0, 0, 3, 0],\n",
       "       [3, 8, 7, 0, 0, 0, 0, 0, 9],\n",
       "       [0, 9, 0, 8, 0, 7, 2, 4, 0],\n",
       "       [0, 0, 0, 2, 0, 0, 0, 0, 3],\n",
       "       [0, 0, 0, 0, 1, 0, 0, 8, 0]])"
      ]
     },
     "execution_count": 89,
     "metadata": {},
     "output_type": "execute_result"
    }
   ],
   "source": [
    "base"
   ]
  },
  {
   "cell_type": "code",
   "execution_count": 90,
   "id": "989cfbe0",
   "metadata": {},
   "outputs": [
    {
     "data": {
      "text/plain": [
       "array([3, 5, 4])"
      ]
     },
     "execution_count": 90,
     "metadata": {},
     "output_type": "execute_result"
    }
   ],
   "source": [
    "a = np.array([0,1,2,3,4,5,6,7,8,9])\n",
    "a[np.array([3,5,4])]"
   ]
  },
  {
   "cell_type": "code",
   "execution_count": 7,
   "id": "d5cda3cb",
   "metadata": {},
   "outputs": [
    {
     "name": "stdout",
     "output_type": "stream",
     "text": [
      "column 2 by  [3 4] num:  2\n",
      "column 2 by  [3 4] num:  2\n",
      "column 2 by  [3 4] num:  2\n",
      "column 2 by  [3 4] num:  2\n",
      "column 2 by  [3 4] num:  2\n",
      "column 2 by  [3 4] num:  2\n",
      "column 2 by  [3 4] num:  2\n",
      "column 2 by  [3 4] num:  2\n",
      "column 2 by  [3 4] num:  2\n"
     ]
    },
    {
     "ename": "ValueError",
     "evalue": "setting an array element with a sequence.",
     "output_type": "error",
     "traceback": [
      "\u001b[31m---------------------------------------------------------------------------\u001b[39m",
      "\u001b[31mTypeError\u001b[39m                                 Traceback (most recent call last)",
      "\u001b[31mTypeError\u001b[39m: only length-1 arrays can be converted to Python scalars",
      "\nThe above exception was the direct cause of the following exception:\n",
      "\u001b[31mValueError\u001b[39m                                Traceback (most recent call last)",
      "\u001b[36mCell\u001b[39m\u001b[36m \u001b[39m\u001b[32mIn[7]\u001b[39m\u001b[32m, line 1\u001b[39m\n\u001b[32m----> \u001b[39m\u001b[32m1\u001b[39m \u001b[43msudoku\u001b[49m\u001b[43m.\u001b[49m\u001b[43mget_pos\u001b[49m\u001b[43m(\u001b[49m\u001b[43mbase\u001b[49m\u001b[43m,\u001b[49m\u001b[43m \u001b[49m\u001b[43mnp\u001b[49m\u001b[43m.\u001b[49m\u001b[43marray\u001b[49m\u001b[43m(\u001b[49m\u001b[43m[\u001b[49m\u001b[43m[\u001b[49m\u001b[32;43m8\u001b[39;49m\u001b[43m,\u001b[49m\u001b[32;43m2\u001b[39;49m\u001b[43m]\u001b[49m\u001b[43m]\u001b[49m\u001b[43m)\u001b[49m\u001b[43m,\u001b[49m\u001b[43m \u001b[49m\u001b[43mcheck_line\u001b[49m\u001b[43m=\u001b[49m\u001b[38;5;28;43;01mTrue\u001b[39;49;00m\u001b[43m)\u001b[49m\n",
      "\u001b[36mFile \u001b[39m\u001b[32mc:\\Users\\tuurw\\desktop\\SudokuSolver\\functions.py:140\u001b[39m, in \u001b[36mget_pos\u001b[39m\u001b[34m(arr, coos, check_line)\u001b[39m\n\u001b[32m    138\u001b[39m     keys = coos[:,\u001b[32m0\u001b[39m]*n+coos[:,\u001b[32m1\u001b[39m]\n\u001b[32m    139\u001b[39m     \u001b[38;5;28;01mfor\u001b[39;00m i \u001b[38;5;129;01min\u001b[39;00m \u001b[38;5;28mrange\u001b[39m(\u001b[38;5;28mlen\u001b[39m(keys)):\n\u001b[32m--> \u001b[39m\u001b[32m140\u001b[39m         \u001b[43mpos\u001b[49m\u001b[43m[\u001b[49m\u001b[43mi\u001b[49m\u001b[43m]\u001b[49m = np.setdiff1d(pos[i], removers[keys[i]])\n\u001b[32m    141\u001b[39m \u001b[38;5;28;01mreturn\u001b[39;00m Pos\n",
      "\u001b[31mValueError\u001b[39m: setting an array element with a sequence."
     ]
    }
   ],
   "source": [
    "sudoku.get_pos(base, np.array([[8,2]]), check_line=True)"
   ]
  },
  {
   "cell_type": "code",
   "execution_count": 3,
   "id": "82fc9b98",
   "metadata": {},
   "outputs": [],
   "source": [
    "base =np.array([\n",
    "    [4, 6, 3, 5, 9, 1, 7, 2, 8],\n",
    "    [5, 8, 1, 6, 0, 7, 9, 3, 4],\n",
    "    [7, 0, 9, 3, 8, 4, 0, 0, 5],\n",
    "    \n",
    "    [1, 5, 8, 7, 6, 9, 2, 4, 3],\n",
    "    [3, 7, 2, 1, 4, 5, 8, 6, 9],\n",
    "    [0, 0, 0, 2, 3, 8, 5, 7, 1],\n",
    "    \n",
    "    [8, 1, 5, 4, 7, 6, 3, 9, 2],\n",
    "    [0, 0, 7, 8, 1, 3, 4, 5, 6],\n",
    "    [0, 3, 4, 9, 5, 2, 1, 8, 7],\n",
    "])\n"
   ]
  },
  {
   "cell_type": "code",
   "execution_count": 2,
   "id": "99d9f3ae",
   "metadata": {},
   "outputs": [],
   "source": [
    "import numpy as np"
   ]
  },
  {
   "cell_type": "code",
   "execution_count": 4,
   "id": "395bc21f",
   "metadata": {},
   "outputs": [
    {
     "data": {
      "text/plain": [
       "array([[4, 6, 3, 5, 9, 1, 7, 2, 8],\n",
       "       [5, 8, 1, 6, 0, 7, 9, 3, 4],\n",
       "       [7, 0, 9, 3, 8, 4, 0, 0, 5],\n",
       "       [1, 5, 8, 7, 6, 9, 2, 4, 3],\n",
       "       [3, 7, 2, 1, 4, 5, 8, 6, 9],\n",
       "       [0, 0, 0, 2, 3, 8, 5, 7, 1],\n",
       "       [8, 1, 5, 4, 7, 6, 3, 9, 2],\n",
       "       [0, 0, 7, 8, 1, 3, 4, 5, 6],\n",
       "       [0, 3, 4, 9, 5, 2, 1, 8, 7]])"
      ]
     },
     "execution_count": 4,
     "metadata": {},
     "output_type": "execute_result"
    }
   ],
   "source": [
    "base"
   ]
  },
  {
   "cell_type": "code",
   "execution_count": 5,
   "id": "255bb60c",
   "metadata": {},
   "outputs": [],
   "source": [
    "from functions import Sudoku"
   ]
  },
  {
   "cell_type": "code",
   "execution_count": 6,
   "id": "30075d39",
   "metadata": {},
   "outputs": [],
   "source": [
    "sudoku = Sudoku(base)"
   ]
  },
  {
   "cell_type": "code",
   "execution_count": 8,
   "id": "76886f41",
   "metadata": {},
   "outputs": [
    {
     "ename": "AttributeError",
     "evalue": "'list' object has no attribute 'shape'",
     "output_type": "error",
     "traceback": [
      "\u001b[31m---------------------------------------------------------------------------\u001b[39m",
      "\u001b[31mAttributeError\u001b[39m                            Traceback (most recent call last)",
      "\u001b[36mCell\u001b[39m\u001b[36m \u001b[39m\u001b[32mIn[8]\u001b[39m\u001b[32m, line 1\u001b[39m\n\u001b[32m----> \u001b[39m\u001b[32m1\u001b[39m \u001b[43msudoku\u001b[49m\u001b[43m.\u001b[49m\u001b[43mget_pos\u001b[49m\u001b[43m(\u001b[49m\u001b[43m[\u001b[49m\u001b[32;43m0\u001b[39;49m\u001b[43m,\u001b[49m\u001b[32;43m0\u001b[39;49m\u001b[43m]\u001b[49m\u001b[43m)\u001b[49m\n",
      "\u001b[36mFile \u001b[39m\u001b[32mc:\\Users\\tuurw\\desktop\\SudokuSolver\\functions.py:108\u001b[39m, in \u001b[36mSudoku.get_pos\u001b[39m\u001b[34m(self, coos, check_line)\u001b[39m\n\u001b[32m    106\u001b[39m n = arr.shape[\u001b[32m0\u001b[39m]\n\u001b[32m    107\u001b[39m Pos= []\n\u001b[32m--> \u001b[39m\u001b[32m108\u001b[39m \u001b[38;5;28;01mfor\u001b[39;00m i \u001b[38;5;129;01min\u001b[39;00m \u001b[38;5;28mrange\u001b[39m(\u001b[43mcoos\u001b[49m\u001b[43m.\u001b[49m\u001b[43mshape\u001b[49m[\u001b[32m0\u001b[39m]):\n\u001b[32m    109\u001b[39m     pos = np.arange(\u001b[32m1\u001b[39m, n+\u001b[32m1\u001b[39m)\n\u001b[32m    110\u001b[39m     \u001b[38;5;28;01mif\u001b[39;00m np.all(arr[coos[i,\u001b[32m0\u001b[39m], coos[i,\u001b[32m1\u001b[39m]]==\u001b[32m0\u001b[39m):\n",
      "\u001b[31mAttributeError\u001b[39m: 'list' object has no attribute 'shape'"
     ]
    }
   ],
   "source": [
    "sudoku.get_pos([0,0])"
   ]
  },
  {
   "cell_type": "code",
   "execution_count": 10,
   "id": "9187db61",
   "metadata": {},
   "outputs": [
    {
     "data": {
      "text/plain": [
       "False"
      ]
     },
     "execution_count": 10,
     "metadata": {},
     "output_type": "execute_result"
    }
   ],
   "source": [
    "np.array_equal([1,2,3],[1,3,2]) "
   ]
  },
  {
   "cell_type": "code",
   "execution_count": null,
   "id": "217681e7",
   "metadata": {},
   "outputs": [],
   "source": []
  }
 ],
 "metadata": {
  "kernelspec": {
   "display_name": "Python 3",
   "language": "python",
   "name": "python3"
  },
  "language_info": {
   "codemirror_mode": {
    "name": "ipython",
    "version": 3
   },
   "file_extension": ".py",
   "mimetype": "text/x-python",
   "name": "python",
   "nbconvert_exporter": "python",
   "pygments_lexer": "ipython3",
   "version": "3.12.6"
  }
 },
 "nbformat": 4,
 "nbformat_minor": 5
}
